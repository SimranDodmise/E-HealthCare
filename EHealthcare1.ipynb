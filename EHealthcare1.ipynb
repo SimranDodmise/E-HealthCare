{
 "cells": [
  {
   "cell_type": "code",
   "execution_count": 262,
   "metadata": {
    "collapsed": true
   },
   "outputs": [],
   "source": [
    "import pandas as pd\n",
    "import numpy as np"
   ]
  },
  {
   "cell_type": "code",
   "execution_count": 263,
   "metadata": {
    "collapsed": false
   },
   "outputs": [],
   "source": [
    "# Load Training data\n",
    "df = pd.read_csv('E:/Final Year CSE/Project sem 7/train1.csv')\n",
    "\n",
    "#df.head()"
   ]
  },
  {
   "cell_type": "code",
   "execution_count": 264,
   "metadata": {
    "collapsed": false
   },
   "outputs": [],
   "source": [
    "#X = df.iloc[:, :-1]\n",
    "#y = df['Prediction']\n",
    "\n",
    "X=df[['heart_rate_variability','glucose_level','bmi','pulserate','temp','respiratory_rate','smoking_status']]\n",
    "y = df['Prediction']"
   ]
  },
  {
   "cell_type": "code",
   "execution_count": 265,
   "metadata": {
    "collapsed": false
   },
   "outputs": [],
   "source": [
    "# Train, Test split\n",
    "#from sklearn.model_selection import train_test_split\n",
    "from sklearn.cross_validation import train_test_split# Train, Test split\n",
    "#from sklearn.model_selection import train_test_split\n",
    "from sklearn.cross_validation import train_test_split# Random Forest Classifier\n",
    "from sklearn.ensemble import RandomForestClassifier\n",
    "\n",
    "rf_clf = RandomForestClassifier()\n",
    "X_train, X_test, y_train, y_test = train_test_split(X, y, test_size=0.3, random_state=20)\n",
    "X_train, X_test, y_train, y_test = train_test_split(X, y, test_size=0.3, random_state=20)"
   ]
  },
  {
   "cell_type": "code",
   "execution_count": 266,
   "metadata": {
    "collapsed": true
   },
   "outputs": [],
   "source": [
    "# Random Forest Classifier\n",
    "from sklearn.ensemble import RandomForestClassifier\n",
    "\n",
    "rf_clf = RandomForestClassifier()"
   ]
  },
  {
   "cell_type": "code",
   "execution_count": 267,
   "metadata": {
    "collapsed": false
   },
   "outputs": [
    {
     "name": "stdout",
     "output_type": "stream",
     "text": [
      "Accuracy on split test:  0.976408912189\n"
     ]
    }
   ],
   "source": [
    "rf_clf.fit(X_train, y_train)\n",
    "\n",
    "print(\"Accuracy on split test: \", rf_clf.score(X_test,y_test))"
   ]
  },
  {
   "cell_type": "code",
   "execution_count": 268,
   "metadata": {
    "collapsed": false
   },
   "outputs": [],
   "source": [
    "y_pred=rf_clf.predict(X_test)\n",
    "#y_pred"
   ]
  },
  {
   "cell_type": "code",
   "execution_count": 269,
   "metadata": {
    "collapsed": false
   },
   "outputs": [
    {
     "data": {
      "text/plain": [
       "0.97640891218872872"
      ]
     },
     "execution_count": 269,
     "metadata": {},
     "output_type": "execute_result"
    }
   ],
   "source": [
    "from sklearn.metrics import accuracy_score, confusion_matrix, classification_report\n",
    "accuracy_score(y_test,y_pred)"
   ]
  },
  {
   "cell_type": "code",
   "execution_count": 270,
   "metadata": {
    "collapsed": false
   },
   "outputs": [
    {
     "data": {
      "text/plain": [
       "array([[   13,     0,     0,     0],\n",
       "       [    0, 12636,     0,    53],\n",
       "       [    0,     0,    10,     0],\n",
       "       [    0,   253,     0,     6]])"
      ]
     },
     "execution_count": 270,
     "metadata": {},
     "output_type": "execute_result"
    }
   ],
   "source": [
    "confusion_matrix(y_test,y_pred)"
   ]
  },
  {
   "cell_type": "code",
   "execution_count": 271,
   "metadata": {
    "collapsed": false
   },
   "outputs": [
    {
     "name": "stdout",
     "output_type": "stream",
     "text": [
      "             precision    recall  f1-score   support\n",
      "\n",
      "      Fever       1.00      1.00      1.00        13\n",
      "       Fine       0.98      1.00      0.99     12689\n",
      "   No fever       1.00      1.00      1.00        10\n",
      "     stroke       0.10      0.02      0.04       259\n",
      "\n",
      "avg / total       0.96      0.98      0.97     12971\n",
      "\n"
     ]
    }
   ],
   "source": [
    "print(classification_report(y_test,y_pred))"
   ]
  },
  {
   "cell_type": "code",
   "execution_count": 272,
   "metadata": {
    "collapsed": true
   },
   "outputs": [],
   "source": [
    "#https://api.thingspeak.com/channels/1275092/feeds.json?api_key=476Z7LP0236ZH1MX&results=2\n",
    "\n",
    "import urllib.request\n",
    "import re\n",
    "from bs4 import BeautifulSoup"
   ]
  },
  {
   "cell_type": "code",
   "execution_count": 273,
   "metadata": {
    "collapsed": false
   },
   "outputs": [
    {
     "name": "stdout",
     "output_type": "stream",
     "text": [
      "[['101', '74.86', '27.5', '54', '50', '0', '0']]\n",
      "['Fever']\n"
     ]
    }
   ],
   "source": [
    "data=urllib.request.urlopen(\"https://api.thingspeak.com/channels/1275092/feeds.json?api_key=476Z7LP0236ZH1MX&results=2\");\n",
    "    \n",
    "#data=urllib.request.urlopen(\"https://api.thingspeak.com/channels/1274310/feeds.json?api_key=NJGYNVBTFTRJV2MM&results=2\");\n",
    "\n",
    "select=repr(data.read());\n",
    "select=select[600:];\n",
    "\n",
    "f1=0;f2=0;f3=0;f4=0;f5=0;f6=0;f7=0;f8=0\n",
    "\n",
    "pick=re.search('field1\":\"(.+?)\",',select);\n",
    "#print(pick);\n",
    "if pick:\n",
    "    f1=pick.group(1);\n",
    "\n",
    "pick=re.search('field2\":\"(.+?)\",',select);\n",
    "#print(pick);\n",
    "if pick:\n",
    "    f2=pick.group(1);\n",
    "    \n",
    "pick=re.search('field3\":\"(.+?)\",',select);\n",
    "#print(pick);\n",
    "if pick:\n",
    "    f3=pick.group(1);\n",
    "\n",
    "pick=re.search('field4\":\"(.+?)\",',select);\n",
    "#print(pick);\n",
    "if pick:\n",
    "    f4=pick.group(1);\n",
    "\n",
    "pick=re.search('field5\":\"(.+?)\",',select);\n",
    "#print(pick);\n",
    "if pick:\n",
    "    f5=pick.group(1);\n",
    "\n",
    "pick=re.search('field6\":\"(.+?)\",',select);\n",
    "#print(pick);\n",
    "if pick:\n",
    "    f6=pick.group(1);\n",
    "\n",
    "pick=re.search('field7\":\"(.+?)\",',select);\n",
    "#print(pick);\n",
    "if pick:\n",
    "    f7=pick.group(1); \n",
    "    \n",
    "\n",
    "\n",
    "#print (pick.group(1));\n",
    "    \n",
    "l=[[f1,f2,f3,f4,f5,f6,f7]]\n",
    "print(l)\n",
    "\n",
    "d=rf_clf.predict(l);\n",
    "print(d);"
   ]
  },
  {
   "cell_type": "code",
   "execution_count": 274,
   "metadata": {
    "collapsed": true
   },
   "outputs": [],
   "source": [
    "from tkinter import *\n",
    "\n",
    "root = Tk()\n",
    "lf=Frame(root)\n",
    "lf.pack(side=LEFT)\n",
    "rf=Frame(root)\n",
    "rf.pack(side=RIGHT)\n",
    "\n",
    "def myDoctor():\n",
    "\t\tl1=Label(lf,text=\"Dr. Arati Zende\\n9403094538\",font=('arial',14),width=16)\n",
    "\t\tl1.pack(side=LEFT)\n",
    "\t\tl2=Label(lf,text=\"Dr. Satish Patil\\n8888273187\",font=('arial',14),width=16)\n",
    "\t\tl2.pack(side=LEFT)\n",
    "\n",
    "def myClick():\n",
    "\tmyLabel = Label(root,text=\"Predicted Disease is : \",font=('arial',24,'bold'))\n",
    "\tmyLabel.pack()\n",
    "\tmyLabel = Label(root,text=d,font=('arial',24,'bold'))\n",
    "\tmyLabel.pack()\n",
    "\tbutton1=Button(lf,text=\"Consult your Doctor\",command = myDoctor,fg=\"blue\",font=('arial',22))\n",
    "\tbutton1.pack()\n",
    "\n",
    "myButton = Button(root,text=\"Predict Disease\", command = myClick, fg=\"white\", bg=\"green\", font=('arial',18))\n",
    "myButton.pack()\n",
    "\n",
    "root.mainloop()"
   ]
  },
  {
   "cell_type": "code",
   "execution_count": null,
   "metadata": {
    "collapsed": true
   },
   "outputs": [],
   "source": []
  },
  {
   "cell_type": "code",
   "execution_count": null,
   "metadata": {
    "collapsed": true
   },
   "outputs": [],
   "source": []
  }
 ],
 "metadata": {
  "kernelspec": {
   "display_name": "Python 3",
   "language": "python",
   "name": "python3"
  },
  "language_info": {
   "codemirror_mode": {
    "name": "ipython",
    "version": 3
   },
   "file_extension": ".py",
   "mimetype": "text/x-python",
   "name": "python",
   "nbconvert_exporter": "python",
   "pygments_lexer": "ipython3",
   "version": "3.5.1"
  }
 },
 "nbformat": 4,
 "nbformat_minor": 0
}
